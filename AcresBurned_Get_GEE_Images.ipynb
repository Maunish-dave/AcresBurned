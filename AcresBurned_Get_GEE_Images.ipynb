{
  "nbformat": 4,
  "nbformat_minor": 0,
  "metadata": {
    "colab": {
      "name": "AcresBurned Get GEE Images.ipynb",
      "provenance": [],
      "collapsed_sections": []
    },
    "kernelspec": {
      "name": "python3",
      "display_name": "Python 3"
    },
    "language_info": {
      "name": "python"
    },
    "accelerator": "GPU"
  },
  "cells": [
    {
      "cell_type": "code",
      "metadata": {
        "colab": {
          "base_uri": "https://localhost:8080/"
        },
        "id": "z8MhK6rJpz3O",
        "outputId": "9dc25e75-f977-425c-feb7-df44f43430df"
      },
      "source": [
        "!pip install timm\n",
        "!pip install albumentations -U"
      ],
      "execution_count": 1,
      "outputs": [
        {
          "output_type": "stream",
          "name": "stdout",
          "text": [
            "Collecting timm\n",
            "  Downloading timm-0.4.12-py3-none-any.whl (376 kB)\n",
            "\u001b[?25l\r\u001b[K     |▉                               | 10 kB 26.0 MB/s eta 0:00:01\r\u001b[K     |█▊                              | 20 kB 20.8 MB/s eta 0:00:01\r\u001b[K     |██▋                             | 30 kB 11.3 MB/s eta 0:00:01\r\u001b[K     |███▌                            | 40 kB 9.0 MB/s eta 0:00:01\r\u001b[K     |████▍                           | 51 kB 5.1 MB/s eta 0:00:01\r\u001b[K     |█████▏                          | 61 kB 5.4 MB/s eta 0:00:01\r\u001b[K     |██████                          | 71 kB 5.8 MB/s eta 0:00:01\r\u001b[K     |███████                         | 81 kB 6.5 MB/s eta 0:00:01\r\u001b[K     |███████▉                        | 92 kB 6.3 MB/s eta 0:00:01\r\u001b[K     |████████▊                       | 102 kB 5.3 MB/s eta 0:00:01\r\u001b[K     |█████████▋                      | 112 kB 5.3 MB/s eta 0:00:01\r\u001b[K     |██████████▍                     | 122 kB 5.3 MB/s eta 0:00:01\r\u001b[K     |███████████▎                    | 133 kB 5.3 MB/s eta 0:00:01\r\u001b[K     |████████████▏                   | 143 kB 5.3 MB/s eta 0:00:01\r\u001b[K     |█████████████                   | 153 kB 5.3 MB/s eta 0:00:01\r\u001b[K     |██████████████                  | 163 kB 5.3 MB/s eta 0:00:01\r\u001b[K     |██████████████▊                 | 174 kB 5.3 MB/s eta 0:00:01\r\u001b[K     |███████████████▋                | 184 kB 5.3 MB/s eta 0:00:01\r\u001b[K     |████████████████▌               | 194 kB 5.3 MB/s eta 0:00:01\r\u001b[K     |█████████████████▍              | 204 kB 5.3 MB/s eta 0:00:01\r\u001b[K     |██████████████████▎             | 215 kB 5.3 MB/s eta 0:00:01\r\u001b[K     |███████████████████▏            | 225 kB 5.3 MB/s eta 0:00:01\r\u001b[K     |████████████████████            | 235 kB 5.3 MB/s eta 0:00:01\r\u001b[K     |████████████████████▉           | 245 kB 5.3 MB/s eta 0:00:01\r\u001b[K     |█████████████████████▊          | 256 kB 5.3 MB/s eta 0:00:01\r\u001b[K     |██████████████████████▋         | 266 kB 5.3 MB/s eta 0:00:01\r\u001b[K     |███████████████████████▌        | 276 kB 5.3 MB/s eta 0:00:01\r\u001b[K     |████████████████████████▍       | 286 kB 5.3 MB/s eta 0:00:01\r\u001b[K     |█████████████████████████▏      | 296 kB 5.3 MB/s eta 0:00:01\r\u001b[K     |██████████████████████████      | 307 kB 5.3 MB/s eta 0:00:01\r\u001b[K     |███████████████████████████     | 317 kB 5.3 MB/s eta 0:00:01\r\u001b[K     |███████████████████████████▉    | 327 kB 5.3 MB/s eta 0:00:01\r\u001b[K     |████████████████████████████▊   | 337 kB 5.3 MB/s eta 0:00:01\r\u001b[K     |█████████████████████████████▌  | 348 kB 5.3 MB/s eta 0:00:01\r\u001b[K     |██████████████████████████████▍ | 358 kB 5.3 MB/s eta 0:00:01\r\u001b[K     |███████████████████████████████▎| 368 kB 5.3 MB/s eta 0:00:01\r\u001b[K     |████████████████████████████████| 376 kB 5.3 MB/s \n",
            "\u001b[?25hRequirement already satisfied: torch>=1.4 in /usr/local/lib/python3.7/dist-packages (from timm) (1.9.0+cu111)\n",
            "Requirement already satisfied: torchvision in /usr/local/lib/python3.7/dist-packages (from timm) (0.10.0+cu111)\n",
            "Requirement already satisfied: typing-extensions in /usr/local/lib/python3.7/dist-packages (from torch>=1.4->timm) (3.7.4.3)\n",
            "Requirement already satisfied: pillow>=5.3.0 in /usr/local/lib/python3.7/dist-packages (from torchvision->timm) (7.1.2)\n",
            "Requirement already satisfied: numpy in /usr/local/lib/python3.7/dist-packages (from torchvision->timm) (1.19.5)\n",
            "Installing collected packages: timm\n",
            "Successfully installed timm-0.4.12\n",
            "Requirement already satisfied: albumentations in /usr/local/lib/python3.7/dist-packages (0.1.12)\n",
            "Collecting albumentations\n",
            "  Downloading albumentations-1.1.0-py3-none-any.whl (102 kB)\n",
            "\u001b[K     |████████████████████████████████| 102 kB 6.5 MB/s \n",
            "\u001b[?25hRequirement already satisfied: numpy>=1.11.1 in /usr/local/lib/python3.7/dist-packages (from albumentations) (1.19.5)\n",
            "Requirement already satisfied: scipy in /usr/local/lib/python3.7/dist-packages (from albumentations) (1.4.1)\n",
            "Requirement already satisfied: scikit-image>=0.16.1 in /usr/local/lib/python3.7/dist-packages (from albumentations) (0.16.2)\n",
            "Collecting opencv-python-headless>=4.1.1\n",
            "  Downloading opencv_python_headless-4.5.4.58-cp37-cp37m-manylinux2014_x86_64.whl (47.6 MB)\n",
            "\u001b[K     |████████████████████████████████| 47.6 MB 40 kB/s \n",
            "\u001b[?25hRequirement already satisfied: PyYAML in /usr/local/lib/python3.7/dist-packages (from albumentations) (3.13)\n",
            "Collecting qudida>=0.0.4\n",
            "  Downloading qudida-0.0.4-py3-none-any.whl (3.5 kB)\n",
            "Requirement already satisfied: scikit-learn>=0.19.1 in /usr/local/lib/python3.7/dist-packages (from qudida>=0.0.4->albumentations) (0.22.2.post1)\n",
            "Requirement already satisfied: typing-extensions in /usr/local/lib/python3.7/dist-packages (from qudida>=0.0.4->albumentations) (3.7.4.3)\n",
            "Requirement already satisfied: matplotlib!=3.0.0,>=2.0.0 in /usr/local/lib/python3.7/dist-packages (from scikit-image>=0.16.1->albumentations) (3.2.2)\n",
            "Requirement already satisfied: networkx>=2.0 in /usr/local/lib/python3.7/dist-packages (from scikit-image>=0.16.1->albumentations) (2.6.3)\n",
            "Requirement already satisfied: pillow>=4.3.0 in /usr/local/lib/python3.7/dist-packages (from scikit-image>=0.16.1->albumentations) (7.1.2)\n",
            "Requirement already satisfied: imageio>=2.3.0 in /usr/local/lib/python3.7/dist-packages (from scikit-image>=0.16.1->albumentations) (2.4.1)\n",
            "Requirement already satisfied: PyWavelets>=0.4.0 in /usr/local/lib/python3.7/dist-packages (from scikit-image>=0.16.1->albumentations) (1.1.1)\n",
            "Requirement already satisfied: cycler>=0.10 in /usr/local/lib/python3.7/dist-packages (from matplotlib!=3.0.0,>=2.0.0->scikit-image>=0.16.1->albumentations) (0.10.0)\n",
            "Requirement already satisfied: python-dateutil>=2.1 in /usr/local/lib/python3.7/dist-packages (from matplotlib!=3.0.0,>=2.0.0->scikit-image>=0.16.1->albumentations) (2.8.2)\n",
            "Requirement already satisfied: pyparsing!=2.0.4,!=2.1.2,!=2.1.6,>=2.0.1 in /usr/local/lib/python3.7/dist-packages (from matplotlib!=3.0.0,>=2.0.0->scikit-image>=0.16.1->albumentations) (2.4.7)\n",
            "Requirement already satisfied: kiwisolver>=1.0.1 in /usr/local/lib/python3.7/dist-packages (from matplotlib!=3.0.0,>=2.0.0->scikit-image>=0.16.1->albumentations) (1.3.2)\n",
            "Requirement already satisfied: six in /usr/local/lib/python3.7/dist-packages (from cycler>=0.10->matplotlib!=3.0.0,>=2.0.0->scikit-image>=0.16.1->albumentations) (1.15.0)\n",
            "Requirement already satisfied: joblib>=0.11 in /usr/local/lib/python3.7/dist-packages (from scikit-learn>=0.19.1->qudida>=0.0.4->albumentations) (1.0.1)\n",
            "Installing collected packages: opencv-python-headless, qudida, albumentations\n",
            "  Attempting uninstall: albumentations\n",
            "    Found existing installation: albumentations 0.1.12\n",
            "    Uninstalling albumentations-0.1.12:\n",
            "      Successfully uninstalled albumentations-0.1.12\n",
            "Successfully installed albumentations-1.1.0 opencv-python-headless-4.5.4.58 qudida-0.0.4\n"
          ]
        }
      ]
    },
    {
      "cell_type": "code",
      "metadata": {
        "id": "E_BDhBRRcyju"
      },
      "source": [
        "import os\n",
        "import gc\n",
        "import cv2\n",
        "import sys\n",
        "import math\n",
        "import time\n",
        "import timm\n",
        "import random\n",
        "import numpy as np\n",
        "import pandas as pd\n",
        "import seaborn as sns\n",
        "import matplotlib.pyplot as plt\n",
        "\n",
        "import warnings\n",
        "warnings.filterwarnings('ignore')\n",
        "\n",
        "from PIL import Image\n",
        "\n",
        "from tqdm.auto import tqdm\n",
        "from sklearn.metrics import accuracy_score,classification_report\n",
        "from sklearn.model_selection import StratifiedKFold\n",
        "\n",
        "import torch\n",
        "import torch.nn as nn\n",
        "import torch.optim as optim\n",
        "import torch.nn.functional as F\n",
        "from torch.utils.data import Dataset, DataLoader\n",
        "\n",
        "import albumentations as A \n",
        "from albumentations.pytorch.transforms import ToTensorV2"
      ],
      "execution_count": 2,
      "outputs": []
    },
    {
      "cell_type": "code",
      "metadata": {
        "id": "DEjT0TvXdTMD"
      },
      "source": [
        "train_data = pd.read_csv('/content/drive/MyDrive/AcresBurned/FinalDataset.csv')"
      ],
      "execution_count": 3,
      "outputs": []
    },
    {
      "cell_type": "code",
      "metadata": {
        "id": "TTss0XqNMCjx"
      },
      "source": [
        "seed = 1000\n",
        "nfolds = 5\n",
        "\n",
        "config = {'lr':5e-5,\n",
        "          'wd':1e-2,\n",
        "          'bs':32,\n",
        "          'img_size':256,\n",
        "          'nfolds':5,\n",
        "          'epochs':10,\n",
        "          'num_workers':4,\n",
        "          'seed':1000,\n",
        "          'model_name':'tf_efficientnet_b0',\n",
        "         }\n",
        "\n",
        "def seed_everything(seed=42):\n",
        "    random.seed(seed)\n",
        "    os.environ['PYTHONASSEED'] = str(seed)\n",
        "    np.random.seed(seed)\n",
        "    torch.manual_seed(seed)\n",
        "    torch.cuda.manual_seed(seed)\n",
        "    torch.cuda.manual_seed_all(seed)\n",
        "    torch.backends.cudnn.deterministic = True\n",
        "    torch.backends.cudnn.benchmark = True\n",
        "\n",
        "seed_everything(seed=config['seed'])"
      ],
      "execution_count": 4,
      "outputs": []
    },
    {
      "cell_type": "code",
      "metadata": {
        "id": "NA--GNVJhDO3",
        "colab": {
          "base_uri": "https://localhost:8080/"
        },
        "outputId": "8e8f1add-b31c-4551-d8ac-7cd70e8f3df1"
      },
      "source": [
        "train_data = pd.read_csv('/content/drive/MyDrive/AcresBurned/FinalDataset.csv')\n",
        "\n",
        "train_data.drop(['precipprob','snow','snowdepth','preciptype','windgust'],axis=1,inplace=True)\n",
        "\n",
        "train_data.fillna(train_data.mean(),inplace=True)\n",
        "\n",
        "train_data = train_data.query(\"(Latitude <= 90) & (Latitude >=-90)\").reset_index(drop=True)\n",
        "train_data = train_data.query(\"(Longitude <= 180) & (Longitude >=-180)\").reset_index(drop=True)\n",
        "\n",
        "tiff_image_path = '/content/drive/MyDrive/AcresBurned/tiff/'\n",
        "jpeg_image_path = '/content/drive/MyDrive/AcresBurned/jpeg/'\n",
        "\n",
        "classes = ['AnnualCrop', 'HerbaceousVegetation', 'PermanentCrop',\n",
        "       'Industrial', 'Pasture', 'Highway', 'Residential', 'River',\n",
        "       'SeaLake', 'Forest']\n",
        "\n",
        "num_classes = len(classes)\n",
        "\n",
        "class_to_label = {value:key for key,value in enumerate(classes)}\n",
        "label_to_class = {key:value for key,value in enumerate(classes)}\n",
        "\n",
        "train_data['previous_year'] = train_data['Started'].apply(lambda x:str(int(x[:4])-1)+x[4:])\n",
        "\n",
        "train_data['gee_images'] = [f\"gee_image{x}\" for x in range(len(train_data))]\n",
        "train_data['path'] = jpeg_image_path + train_data['gee_images'] + '.jpeg'\n",
        "\n",
        "print(\"Number of unique Counties\",train_data.Counties.nunique())\n",
        "print(\"Number of rows {} Number of Columns {}\".format(*train_data.shape))"
      ],
      "execution_count": 5,
      "outputs": [
        {
          "output_type": "stream",
          "name": "stdout",
          "text": [
            "Number of unique Counties 59\n",
            "Number of rows 1443 Number of Columns 16\n"
          ]
        }
      ]
    },
    {
      "cell_type": "code",
      "metadata": {
        "colab": {
          "base_uri": "https://localhost:8080/",
          "height": 487
        },
        "id": "_nQmgnmnc0EB",
        "outputId": "4626222a-08d4-4878-8e13-dbb52bce80d1"
      },
      "source": [
        "train_data.head()"
      ],
      "execution_count": 6,
      "outputs": [
        {
          "output_type": "execute_result",
          "data": {
            "text/html": [
              "<div>\n",
              "<style scoped>\n",
              "    .dataframe tbody tr th:only-of-type {\n",
              "        vertical-align: middle;\n",
              "    }\n",
              "\n",
              "    .dataframe tbody tr th {\n",
              "        vertical-align: top;\n",
              "    }\n",
              "\n",
              "    .dataframe thead th {\n",
              "        text-align: right;\n",
              "    }\n",
              "</style>\n",
              "<table border=\"1\" class=\"dataframe\">\n",
              "  <thead>\n",
              "    <tr style=\"text-align: right;\">\n",
              "      <th></th>\n",
              "      <th>AcresBurned</th>\n",
              "      <th>Counties</th>\n",
              "      <th>Latitude</th>\n",
              "      <th>Longitude</th>\n",
              "      <th>Started</th>\n",
              "      <th>temp</th>\n",
              "      <th>feelslike</th>\n",
              "      <th>humidity</th>\n",
              "      <th>dew</th>\n",
              "      <th>precip</th>\n",
              "      <th>windspeed</th>\n",
              "      <th>winddir</th>\n",
              "      <th>pressure</th>\n",
              "      <th>previous_year</th>\n",
              "      <th>gee_images</th>\n",
              "      <th>path</th>\n",
              "    </tr>\n",
              "  </thead>\n",
              "  <tbody>\n",
              "    <tr>\n",
              "      <th>0</th>\n",
              "      <td>300.0</td>\n",
              "      <td>Sutter</td>\n",
              "      <td>39.18832</td>\n",
              "      <td>-121.78003</td>\n",
              "      <td>2016-09-20T09:30:00Z</td>\n",
              "      <td>24.1</td>\n",
              "      <td>24.1</td>\n",
              "      <td>32.5</td>\n",
              "      <td>6.7</td>\n",
              "      <td>0.0</td>\n",
              "      <td>19.8</td>\n",
              "      <td>142.0</td>\n",
              "      <td>1011.8</td>\n",
              "      <td>2015-09-20T09:30:00Z</td>\n",
              "      <td>gee_image0</td>\n",
              "      <td>/content/drive/MyDrive/AcresBurned/jpeg/gee_im...</td>\n",
              "    </tr>\n",
              "    <tr>\n",
              "      <th>1</th>\n",
              "      <td>117.0</td>\n",
              "      <td>Calaveras</td>\n",
              "      <td>38.29113</td>\n",
              "      <td>-120.62177</td>\n",
              "      <td>2017-07-17T12:55:00Z</td>\n",
              "      <td>20.1</td>\n",
              "      <td>20.1</td>\n",
              "      <td>42.7</td>\n",
              "      <td>7.0</td>\n",
              "      <td>0.0</td>\n",
              "      <td>2.5</td>\n",
              "      <td>76.0</td>\n",
              "      <td>1008.1</td>\n",
              "      <td>2016-07-17T12:55:00Z</td>\n",
              "      <td>gee_image1</td>\n",
              "      <td>/content/drive/MyDrive/AcresBurned/jpeg/gee_im...</td>\n",
              "    </tr>\n",
              "    <tr>\n",
              "      <th>2</th>\n",
              "      <td>320.0</td>\n",
              "      <td>Madera</td>\n",
              "      <td>37.31191</td>\n",
              "      <td>-119.60412</td>\n",
              "      <td>2014-09-14T13:36:00Z</td>\n",
              "      <td>19.1</td>\n",
              "      <td>19.1</td>\n",
              "      <td>54.0</td>\n",
              "      <td>9.6</td>\n",
              "      <td>0.0</td>\n",
              "      <td>7.7</td>\n",
              "      <td>298.0</td>\n",
              "      <td>1007.7</td>\n",
              "      <td>2013-09-14T13:36:00Z</td>\n",
              "      <td>gee_image2</td>\n",
              "      <td>/content/drive/MyDrive/AcresBurned/jpeg/gee_im...</td>\n",
              "    </tr>\n",
              "    <tr>\n",
              "      <th>3</th>\n",
              "      <td>104.0</td>\n",
              "      <td>Butte</td>\n",
              "      <td>39.87070</td>\n",
              "      <td>-121.89380</td>\n",
              "      <td>2015-10-02T14:38:00Z</td>\n",
              "      <td>12.2</td>\n",
              "      <td>12.2</td>\n",
              "      <td>91.9</td>\n",
              "      <td>10.9</td>\n",
              "      <td>0.0</td>\n",
              "      <td>1.3</td>\n",
              "      <td>354.0</td>\n",
              "      <td>1017.9</td>\n",
              "      <td>2014-10-02T14:38:00Z</td>\n",
              "      <td>gee_image3</td>\n",
              "      <td>/content/drive/MyDrive/AcresBurned/jpeg/gee_im...</td>\n",
              "    </tr>\n",
              "    <tr>\n",
              "      <th>4</th>\n",
              "      <td>1314.0</td>\n",
              "      <td>San Benito</td>\n",
              "      <td>36.40755</td>\n",
              "      <td>-120.99322</td>\n",
              "      <td>2018-06-04T17:01:00Z</td>\n",
              "      <td>19.7</td>\n",
              "      <td>19.7</td>\n",
              "      <td>58.1</td>\n",
              "      <td>11.3</td>\n",
              "      <td>0.0</td>\n",
              "      <td>16.1</td>\n",
              "      <td>316.0</td>\n",
              "      <td>1014.9</td>\n",
              "      <td>2017-06-04T17:01:00Z</td>\n",
              "      <td>gee_image4</td>\n",
              "      <td>/content/drive/MyDrive/AcresBurned/jpeg/gee_im...</td>\n",
              "    </tr>\n",
              "  </tbody>\n",
              "</table>\n",
              "</div>"
            ],
            "text/plain": [
              "   AcresBurned  ...                                               path\n",
              "0        300.0  ...  /content/drive/MyDrive/AcresBurned/jpeg/gee_im...\n",
              "1        117.0  ...  /content/drive/MyDrive/AcresBurned/jpeg/gee_im...\n",
              "2        320.0  ...  /content/drive/MyDrive/AcresBurned/jpeg/gee_im...\n",
              "3        104.0  ...  /content/drive/MyDrive/AcresBurned/jpeg/gee_im...\n",
              "4       1314.0  ...  /content/drive/MyDrive/AcresBurned/jpeg/gee_im...\n",
              "\n",
              "[5 rows x 16 columns]"
            ]
          },
          "metadata": {},
          "execution_count": 6
        }
      ]
    },
    {
      "cell_type": "markdown",
      "metadata": {
        "id": "ma3xX6jdHsf8"
      },
      "source": [
        "## Download Image from google earth engine\n",
        "\n",
        "Run the commented code if you want to download the images again.<br/>\n",
        "all the images are stored in google drive and \n",
        "requires acces to google earh engine before running it.<br/>\n",
        "Downloading and storing images will take much time"
      ]
    },
    {
      "cell_type": "code",
      "metadata": {
        "colab": {
          "base_uri": "https://localhost:8080/"
        },
        "id": "twNbbnuzHwSY",
        "outputId": "107fe1f0-01f1-4e84-ee8f-1e3cd48242b8"
      },
      "source": [
        "# import ee\n",
        "# ee.Authenticate()\n",
        "# ee.Initialize()"
      ],
      "execution_count": 6,
      "outputs": [
        {
          "output_type": "stream",
          "name": "stdout",
          "text": [
            "To authorize access needed by Earth Engine, open the following URL in a web browser and follow the instructions. If the web browser does not start automatically, please manually browse the URL below.\n",
            "\n",
            "    https://accounts.google.com/o/oauth2/auth?client_id=517222506229-vsmmajv00ul0bs7p89v5m89qs8eb9359.apps.googleusercontent.com&scope=https%3A%2F%2Fwww.googleapis.com%2Fauth%2Fearthengine+https%3A%2F%2Fwww.googleapis.com%2Fauth%2Fdevstorage.full_control&redirect_uri=urn%3Aietf%3Awg%3Aoauth%3A2.0%3Aoob&response_type=code&code_challenge=Q5k8_U4qii1mRcSHDUvHKIY5o1cpF5EeasAqC_fCcy4&code_challenge_method=S256\n",
            "\n",
            "The authorization workflow will generate a code, which you should paste in the box below. \n",
            "Enter verification code: 4/1AX4XfWiWfUG29HdAhv54QkkSEGInUkCZIYPF9iqdDRxZ8a74KSOOKvbKiGw\n",
            "\n",
            "Successfully saved authorization token.\n"
          ]
        }
      ]
    },
    {
      "cell_type": "code",
      "metadata": {
        "id": "RlqNwcOqvAT5"
      },
      "source": [
        "# latitudes = train_data[\"Latitude\"].tolist()\n",
        "# longitudes = train_data[\"Longitude\"].tolist()\n",
        "# start_dates = train_data[\"Started\"].tolist()\n",
        "# prev_dates = train_data[\"previous_year\"].tolist()\n",
        "\n",
        "# for i in range(len(train_data)):\n",
        "#   lat = latitudes[i]\n",
        "#   lon = longitudes[i]\n",
        "#   start_date = start_dates[i]\n",
        "#   prev_date = prev_dates[i]\n",
        "\n",
        "#   area_of_interest = ee.Geometry.Point(lon=lon, lat=lat)\n",
        "\n",
        "#   tile = ee.ImageCollection('COPERNICUS/S2_SR')\\\n",
        "#   .filterBounds(area_of_interest)\\\n",
        "#   .filterDate(start_date,'2021-06-30')\\\n",
        "#   .sort('CLOUDY_PIXEL_PERCENTAGE')\\ #for getting a clear image.\n",
        "#   .first()\n",
        "\n",
        "#   rgb_tile = tile.visualize(bands = ['B4', 'B3', 'B2'], max = 4000)\n",
        "\n",
        "#   bounding_box = ee.Geometry.Rectangle([lon-0.01,lat-0.01,lon+0.001,lat+0.001])\n",
        "\n",
        "#   task_config = {\n",
        "#       'scale': 5,  \n",
        "#       'image': rgb_tile,\n",
        "#       'description': f'gee_image{i}',\n",
        "#       'folder':'tiff',\n",
        "#       'region': bounding_box.getInfo()['coordinates'],\n",
        "#       'crs':'EPSG:4326',\n",
        "#       'fileFormat':'GEO_TIFF',\n",
        "#       }\n",
        "\n",
        "#   task = ee.batch.Export.image.toDrive(**task_config)\n",
        "#   task.start()"
      ],
      "execution_count": 24,
      "outputs": []
    },
    {
      "cell_type": "code",
      "metadata": {
        "id": "lLMg12CTsncr"
      },
      "source": [
        "# def convert_tiff_to_jpeg(img_name):\n",
        "#   img = Image.open(tiff_image_path+img_name+'.tif')\n",
        "#   img.save(jpeg_image_path+img_name+'.jpeg')\n",
        "\n",
        "# image_paths = train_data['gee_images'].tolist()\n",
        "# for img_name in image_paths:\n",
        "#   convert_tiff_to_jpeg(img_name)"
      ],
      "execution_count": 7,
      "outputs": []
    },
    {
      "cell_type": "markdown",
      "metadata": {
        "id": "2huH-3alo7el"
      },
      "source": [
        "## Predicting the image\n",
        "Change runtime to GPU before running"
      ]
    },
    {
      "cell_type": "code",
      "metadata": {
        "id": "9W1JJVBuwXgy"
      },
      "source": [
        "class Model(nn.Module):\n",
        "    def __init__(self,model_path,pretrained=True):\n",
        "        super(Model,self).__init__()\n",
        "        self.backbone = timm.create_model(model_path,pretrained=pretrained)\n",
        "        in_features = self.backbone.classifier.in_features\n",
        "        self.backbone.classifier = nn.Linear(in_features,128)\n",
        "        self.dropout = nn.Dropout(0.2)\n",
        "        self.relu = nn.ReLU()\n",
        "        self.layer = nn.Linear(128,num_classes)\n",
        "    \n",
        "    def forward(self,x):\n",
        "        x = self.relu(self.backbone(x))\n",
        "        x = self.layer(self.dropout(x))\n",
        "        return x"
      ],
      "execution_count": 7,
      "outputs": []
    },
    {
      "cell_type": "code",
      "metadata": {
        "id": "PPuMh6BfssFc"
      },
      "source": [
        "def get_test_transforms():\n",
        "    return A.Compose(\n",
        "        [\n",
        "            A.Resize(config['img_size'],config['img_size'],always_apply=True),\n",
        "            A.Normalize(\n",
        "              mean=[0.485, 0.456, 0.406],\n",
        "              std=[0.229, 0.224, 0.225],\n",
        "           ),\n",
        "            ToTensorV2(p=1.0)\n",
        "        ])"
      ],
      "execution_count": 8,
      "outputs": []
    },
    {
      "cell_type": "code",
      "metadata": {
        "id": "8XbmNd1qsvCJ"
      },
      "source": [
        "class EuroSatDatasetTest(Dataset):\n",
        "    def __init__(self,df,transforms=None):\n",
        "        self.df = df\n",
        "        self.transforms = transforms\n",
        "    \n",
        "    def __getitem__(self,idx):\n",
        "        path = self.df.loc[idx,\"path\"]\n",
        "        image = cv2.imread(path)\n",
        "        image = cv2.cvtColor(image, cv2.COLOR_BGR2RGB)\n",
        "        \n",
        "        if self.transforms:\n",
        "            augmented = self.transforms(image=image)\n",
        "            image = augmented['image']\n",
        "        \n",
        "        image = torch.tensor(image,dtype=torch.float)\n",
        "        \n",
        "        return image\n",
        "    \n",
        "    def __len__(self):\n",
        "        return len(self.df)"
      ],
      "execution_count": 13,
      "outputs": []
    },
    {
      "cell_type": "code",
      "metadata": {
        "id": "uQIB3vkwsxMz"
      },
      "source": [
        "def get_prediction(df,model_paths,device='cuda'):\n",
        "    predictions = list()\n",
        "    \n",
        "    for path,model_name in model_paths:\n",
        "        model = Model(model_name,pretrained=False)\n",
        "\n",
        "        for f in range(config['nfolds']):\n",
        "            model.load_state_dict(torch.load(path.format(f),map_location=device))\n",
        "            model.to(device)\n",
        "            model.eval()\n",
        "\n",
        "            test_ds = EuroSatDatasetTest(df,transforms=get_test_transforms())\n",
        "            test_dl = DataLoader(test_ds,\n",
        "                                batch_size = config[\"bs\"],\n",
        "                                num_workers = config['num_workers'],\n",
        "                                shuffle=False,\n",
        "                                pin_memory=True,\n",
        "                                drop_last=False)\n",
        "\n",
        "            with torch.no_grad():\n",
        "                prediction = list()\n",
        "                for i, inputs in enumerate(test_dl):\n",
        "                    inputs = inputs.to(device)\n",
        "                    outputs = model(inputs)\n",
        "                    pred = outputs.detach().cpu().numpy().tolist()\n",
        "                    prediction.extend(pred)\n",
        "                predictions.append(prediction)\n",
        "\n",
        "    torch.cuda.empty_cache()\n",
        "    predictions = np.mean(predictions,axis=0).argmax(axis=1)\n",
        "    return predictions"
      ],
      "execution_count": 14,
      "outputs": []
    },
    {
      "cell_type": "code",
      "metadata": {
        "id": "vbeJArnDszbf"
      },
      "source": [
        "model_paths = [\n",
        "    ('/content/drive/MyDrive/AcresBurned/models/model{0}.bin',config['model_name'])\n",
        "]"
      ],
      "execution_count": 15,
      "outputs": []
    },
    {
      "cell_type": "code",
      "metadata": {
        "id": "AQasWDrWs2y-"
      },
      "source": [
        "train_data['covertype'] = get_prediction(train_data,model_paths)"
      ],
      "execution_count": 16,
      "outputs": []
    },
    {
      "cell_type": "code",
      "metadata": {
        "id": "vFhB5BhDfgph"
      },
      "source": [
        "train_data['covertype'] = train_data['covertype'].map(label_to_class)"
      ],
      "execution_count": 17,
      "outputs": []
    },
    {
      "cell_type": "code",
      "metadata": {
        "colab": {
          "base_uri": "https://localhost:8080/"
        },
        "id": "21WYwCqLtB9s",
        "outputId": "e9bbc31a-f830-4f7b-e0ac-00ee7f417f52"
      },
      "source": [
        "train_data['covertype'].value_counts()"
      ],
      "execution_count": 18,
      "outputs": [
        {
          "output_type": "execute_result",
          "data": {
            "text/plain": [
              "PermanentCrop           423\n",
              "HerbaceousVegetation    247\n",
              "SeaLake                 233\n",
              "Highway                 171\n",
              "Forest                  118\n",
              "Industrial               84\n",
              "Residential              79\n",
              "AnnualCrop               78\n",
              "River                    10\n",
              "Name: covertype, dtype: int64"
            ]
          },
          "metadata": {},
          "execution_count": 18
        }
      ]
    },
    {
      "cell_type": "code",
      "metadata": {
        "id": "feYIwjKV1YkA"
      },
      "source": [
        "train_data.to_csv(\"/content/drive/MyDrive/AcresBurned/FinalCleanedDataset.csv\",index=False)"
      ],
      "execution_count": 19,
      "outputs": []
    },
    {
      "cell_type": "code",
      "metadata": {
        "colab": {
          "base_uri": "https://localhost:8080/",
          "height": 487
        },
        "id": "6IMG6tF5fo91",
        "outputId": "7dd6696c-73e6-4b1d-cc26-2b7fa29b3768"
      },
      "source": [
        "train_data.head()"
      ],
      "execution_count": 20,
      "outputs": [
        {
          "output_type": "execute_result",
          "data": {
            "text/html": [
              "<div>\n",
              "<style scoped>\n",
              "    .dataframe tbody tr th:only-of-type {\n",
              "        vertical-align: middle;\n",
              "    }\n",
              "\n",
              "    .dataframe tbody tr th {\n",
              "        vertical-align: top;\n",
              "    }\n",
              "\n",
              "    .dataframe thead th {\n",
              "        text-align: right;\n",
              "    }\n",
              "</style>\n",
              "<table border=\"1\" class=\"dataframe\">\n",
              "  <thead>\n",
              "    <tr style=\"text-align: right;\">\n",
              "      <th></th>\n",
              "      <th>AcresBurned</th>\n",
              "      <th>Counties</th>\n",
              "      <th>Latitude</th>\n",
              "      <th>Longitude</th>\n",
              "      <th>Started</th>\n",
              "      <th>temp</th>\n",
              "      <th>feelslike</th>\n",
              "      <th>humidity</th>\n",
              "      <th>dew</th>\n",
              "      <th>precip</th>\n",
              "      <th>windspeed</th>\n",
              "      <th>winddir</th>\n",
              "      <th>pressure</th>\n",
              "      <th>previous_year</th>\n",
              "      <th>gee_images</th>\n",
              "      <th>path</th>\n",
              "      <th>covertype</th>\n",
              "    </tr>\n",
              "  </thead>\n",
              "  <tbody>\n",
              "    <tr>\n",
              "      <th>0</th>\n",
              "      <td>300.0</td>\n",
              "      <td>Sutter</td>\n",
              "      <td>39.18832</td>\n",
              "      <td>-121.78003</td>\n",
              "      <td>2016-09-20T09:30:00Z</td>\n",
              "      <td>24.1</td>\n",
              "      <td>24.1</td>\n",
              "      <td>32.5</td>\n",
              "      <td>6.7</td>\n",
              "      <td>0.0</td>\n",
              "      <td>19.8</td>\n",
              "      <td>142.0</td>\n",
              "      <td>1011.8</td>\n",
              "      <td>2015-09-20T09:30:00Z</td>\n",
              "      <td>gee_image0</td>\n",
              "      <td>/content/drive/MyDrive/AcresBurned/jpeg/gee_im...</td>\n",
              "      <td>PermanentCrop</td>\n",
              "    </tr>\n",
              "    <tr>\n",
              "      <th>1</th>\n",
              "      <td>117.0</td>\n",
              "      <td>Calaveras</td>\n",
              "      <td>38.29113</td>\n",
              "      <td>-120.62177</td>\n",
              "      <td>2017-07-17T12:55:00Z</td>\n",
              "      <td>20.1</td>\n",
              "      <td>20.1</td>\n",
              "      <td>42.7</td>\n",
              "      <td>7.0</td>\n",
              "      <td>0.0</td>\n",
              "      <td>2.5</td>\n",
              "      <td>76.0</td>\n",
              "      <td>1008.1</td>\n",
              "      <td>2016-07-17T12:55:00Z</td>\n",
              "      <td>gee_image1</td>\n",
              "      <td>/content/drive/MyDrive/AcresBurned/jpeg/gee_im...</td>\n",
              "      <td>Forest</td>\n",
              "    </tr>\n",
              "    <tr>\n",
              "      <th>2</th>\n",
              "      <td>320.0</td>\n",
              "      <td>Madera</td>\n",
              "      <td>37.31191</td>\n",
              "      <td>-119.60412</td>\n",
              "      <td>2014-09-14T13:36:00Z</td>\n",
              "      <td>19.1</td>\n",
              "      <td>19.1</td>\n",
              "      <td>54.0</td>\n",
              "      <td>9.6</td>\n",
              "      <td>0.0</td>\n",
              "      <td>7.7</td>\n",
              "      <td>298.0</td>\n",
              "      <td>1007.7</td>\n",
              "      <td>2013-09-14T13:36:00Z</td>\n",
              "      <td>gee_image2</td>\n",
              "      <td>/content/drive/MyDrive/AcresBurned/jpeg/gee_im...</td>\n",
              "      <td>Forest</td>\n",
              "    </tr>\n",
              "    <tr>\n",
              "      <th>3</th>\n",
              "      <td>104.0</td>\n",
              "      <td>Butte</td>\n",
              "      <td>39.87070</td>\n",
              "      <td>-121.89380</td>\n",
              "      <td>2015-10-02T14:38:00Z</td>\n",
              "      <td>12.2</td>\n",
              "      <td>12.2</td>\n",
              "      <td>91.9</td>\n",
              "      <td>10.9</td>\n",
              "      <td>0.0</td>\n",
              "      <td>1.3</td>\n",
              "      <td>354.0</td>\n",
              "      <td>1017.9</td>\n",
              "      <td>2014-10-02T14:38:00Z</td>\n",
              "      <td>gee_image3</td>\n",
              "      <td>/content/drive/MyDrive/AcresBurned/jpeg/gee_im...</td>\n",
              "      <td>PermanentCrop</td>\n",
              "    </tr>\n",
              "    <tr>\n",
              "      <th>4</th>\n",
              "      <td>1314.0</td>\n",
              "      <td>San Benito</td>\n",
              "      <td>36.40755</td>\n",
              "      <td>-120.99322</td>\n",
              "      <td>2018-06-04T17:01:00Z</td>\n",
              "      <td>19.7</td>\n",
              "      <td>19.7</td>\n",
              "      <td>58.1</td>\n",
              "      <td>11.3</td>\n",
              "      <td>0.0</td>\n",
              "      <td>16.1</td>\n",
              "      <td>316.0</td>\n",
              "      <td>1014.9</td>\n",
              "      <td>2017-06-04T17:01:00Z</td>\n",
              "      <td>gee_image4</td>\n",
              "      <td>/content/drive/MyDrive/AcresBurned/jpeg/gee_im...</td>\n",
              "      <td>PermanentCrop</td>\n",
              "    </tr>\n",
              "  </tbody>\n",
              "</table>\n",
              "</div>"
            ],
            "text/plain": [
              "   AcresBurned  ...      covertype\n",
              "0        300.0  ...  PermanentCrop\n",
              "1        117.0  ...         Forest\n",
              "2        320.0  ...         Forest\n",
              "3        104.0  ...  PermanentCrop\n",
              "4       1314.0  ...  PermanentCrop\n",
              "\n",
              "[5 rows x 17 columns]"
            ]
          },
          "metadata": {},
          "execution_count": 20
        }
      ]
    },
    {
      "cell_type": "code",
      "metadata": {
        "id": "RTrjeIzHfsRK"
      },
      "source": [
        ""
      ],
      "execution_count": null,
      "outputs": []
    }
  ]
}