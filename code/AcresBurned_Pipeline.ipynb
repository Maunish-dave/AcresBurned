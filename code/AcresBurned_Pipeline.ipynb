{
  "nbformat": 4,
  "nbformat_minor": 0,
  "metadata": {
    "colab": {
      "name": "AcresBurned  Pipeline.ipynb",
      "provenance": [],
      "collapsed_sections": []
    },
    "kernelspec": {
      "name": "python3",
      "display_name": "Python 3"
    },
    "language_info": {
      "name": "python"
    },
    "accelerator": "GPU"
  },
  "cells": [
    {
      "cell_type": "code",
      "metadata": {
        "colab": {
          "base_uri": "https://localhost:8080/"
        },
        "id": "Nqe_tffemtp6",
        "outputId": "935e4dd8-cda0-4a10-ffc5-9abeda94f090"
      },
      "source": [
        "!pip install timm\n",
        "!pip install albumentations -U\n",
        "!pip install colorama\n",
        "!pip install gmaps\n",
        "!pip install optuna"
      ],
      "execution_count": 1,
      "outputs": [
        {
          "output_type": "stream",
          "name": "stdout",
          "text": [
            "Collecting timm\n",
            "  Downloading timm-0.4.12-py3-none-any.whl (376 kB)\n",
            "\u001b[?25l\r\u001b[K     |▉                               | 10 kB 25.4 MB/s eta 0:00:01\r\u001b[K     |█▊                              | 20 kB 30.7 MB/s eta 0:00:01\r\u001b[K     |██▋                             | 30 kB 28.5 MB/s eta 0:00:01\r\u001b[K     |███▌                            | 40 kB 21.0 MB/s eta 0:00:01\r\u001b[K     |████▍                           | 51 kB 14.4 MB/s eta 0:00:01\r\u001b[K     |█████▏                          | 61 kB 11.4 MB/s eta 0:00:01\r\u001b[K     |██████                          | 71 kB 12.3 MB/s eta 0:00:01\r\u001b[K     |███████                         | 81 kB 13.5 MB/s eta 0:00:01\r\u001b[K     |███████▉                        | 92 kB 14.2 MB/s eta 0:00:01\r\u001b[K     |████████▊                       | 102 kB 12.7 MB/s eta 0:00:01\r\u001b[K     |█████████▋                      | 112 kB 12.7 MB/s eta 0:00:01\r\u001b[K     |██████████▍                     | 122 kB 12.7 MB/s eta 0:00:01\r\u001b[K     |███████████▎                    | 133 kB 12.7 MB/s eta 0:00:01\r\u001b[K     |████████████▏                   | 143 kB 12.7 MB/s eta 0:00:01\r\u001b[K     |█████████████                   | 153 kB 12.7 MB/s eta 0:00:01\r\u001b[K     |██████████████                  | 163 kB 12.7 MB/s eta 0:00:01\r\u001b[K     |██████████████▊                 | 174 kB 12.7 MB/s eta 0:00:01\r\u001b[K     |███████████████▋                | 184 kB 12.7 MB/s eta 0:00:01\r\u001b[K     |████████████████▌               | 194 kB 12.7 MB/s eta 0:00:01\r\u001b[K     |█████████████████▍              | 204 kB 12.7 MB/s eta 0:00:01\r\u001b[K     |██████████████████▎             | 215 kB 12.7 MB/s eta 0:00:01\r\u001b[K     |███████████████████▏            | 225 kB 12.7 MB/s eta 0:00:01\r\u001b[K     |████████████████████            | 235 kB 12.7 MB/s eta 0:00:01\r\u001b[K     |████████████████████▉           | 245 kB 12.7 MB/s eta 0:00:01\r\u001b[K     |█████████████████████▊          | 256 kB 12.7 MB/s eta 0:00:01\r\u001b[K     |██████████████████████▋         | 266 kB 12.7 MB/s eta 0:00:01\r\u001b[K     |███████████████████████▌        | 276 kB 12.7 MB/s eta 0:00:01\r\u001b[K     |████████████████████████▍       | 286 kB 12.7 MB/s eta 0:00:01\r\u001b[K     |█████████████████████████▏      | 296 kB 12.7 MB/s eta 0:00:01\r\u001b[K     |██████████████████████████      | 307 kB 12.7 MB/s eta 0:00:01\r\u001b[K     |███████████████████████████     | 317 kB 12.7 MB/s eta 0:00:01\r\u001b[K     |███████████████████████████▉    | 327 kB 12.7 MB/s eta 0:00:01\r\u001b[K     |████████████████████████████▊   | 337 kB 12.7 MB/s eta 0:00:01\r\u001b[K     |█████████████████████████████▌  | 348 kB 12.7 MB/s eta 0:00:01\r\u001b[K     |██████████████████████████████▍ | 358 kB 12.7 MB/s eta 0:00:01\r\u001b[K     |███████████████████████████████▎| 368 kB 12.7 MB/s eta 0:00:01\r\u001b[K     |████████████████████████████████| 376 kB 12.7 MB/s \n",
            "\u001b[?25hRequirement already satisfied: torchvision in /usr/local/lib/python3.7/dist-packages (from timm) (0.10.0+cu111)\n",
            "Requirement already satisfied: torch>=1.4 in /usr/local/lib/python3.7/dist-packages (from timm) (1.9.0+cu111)\n",
            "Requirement already satisfied: typing-extensions in /usr/local/lib/python3.7/dist-packages (from torch>=1.4->timm) (3.7.4.3)\n",
            "Requirement already satisfied: numpy in /usr/local/lib/python3.7/dist-packages (from torchvision->timm) (1.19.5)\n",
            "Requirement already satisfied: pillow>=5.3.0 in /usr/local/lib/python3.7/dist-packages (from torchvision->timm) (7.1.2)\n",
            "Installing collected packages: timm\n",
            "Successfully installed timm-0.4.12\n",
            "Requirement already satisfied: albumentations in /usr/local/lib/python3.7/dist-packages (0.1.12)\n",
            "Collecting albumentations\n",
            "  Downloading albumentations-1.1.0-py3-none-any.whl (102 kB)\n",
            "\u001b[K     |████████████████████████████████| 102 kB 15.3 MB/s \n",
            "\u001b[?25hRequirement already satisfied: numpy>=1.11.1 in /usr/local/lib/python3.7/dist-packages (from albumentations) (1.19.5)\n",
            "Requirement already satisfied: scipy in /usr/local/lib/python3.7/dist-packages (from albumentations) (1.4.1)\n",
            "Requirement already satisfied: scikit-image>=0.16.1 in /usr/local/lib/python3.7/dist-packages (from albumentations) (0.16.2)\n",
            "Collecting qudida>=0.0.4\n",
            "  Downloading qudida-0.0.4-py3-none-any.whl (3.5 kB)\n",
            "Collecting opencv-python-headless>=4.1.1\n",
            "  Downloading opencv_python_headless-4.5.4.58-cp37-cp37m-manylinux2014_x86_64.whl (47.6 MB)\n",
            "\u001b[K     |████████████████████████████████| 47.6 MB 36 kB/s \n",
            "\u001b[?25hRequirement already satisfied: PyYAML in /usr/local/lib/python3.7/dist-packages (from albumentations) (3.13)\n",
            "Requirement already satisfied: typing-extensions in /usr/local/lib/python3.7/dist-packages (from qudida>=0.0.4->albumentations) (3.7.4.3)\n",
            "Requirement already satisfied: scikit-learn>=0.19.1 in /usr/local/lib/python3.7/dist-packages (from qudida>=0.0.4->albumentations) (0.22.2.post1)\n",
            "Requirement already satisfied: networkx>=2.0 in /usr/local/lib/python3.7/dist-packages (from scikit-image>=0.16.1->albumentations) (2.6.3)\n",
            "Requirement already satisfied: PyWavelets>=0.4.0 in /usr/local/lib/python3.7/dist-packages (from scikit-image>=0.16.1->albumentations) (1.1.1)\n",
            "Requirement already satisfied: pillow>=4.3.0 in /usr/local/lib/python3.7/dist-packages (from scikit-image>=0.16.1->albumentations) (7.1.2)\n",
            "Requirement already satisfied: imageio>=2.3.0 in /usr/local/lib/python3.7/dist-packages (from scikit-image>=0.16.1->albumentations) (2.4.1)\n",
            "Requirement already satisfied: matplotlib!=3.0.0,>=2.0.0 in /usr/local/lib/python3.7/dist-packages (from scikit-image>=0.16.1->albumentations) (3.2.2)\n",
            "Requirement already satisfied: python-dateutil>=2.1 in /usr/local/lib/python3.7/dist-packages (from matplotlib!=3.0.0,>=2.0.0->scikit-image>=0.16.1->albumentations) (2.8.2)\n",
            "Requirement already satisfied: kiwisolver>=1.0.1 in /usr/local/lib/python3.7/dist-packages (from matplotlib!=3.0.0,>=2.0.0->scikit-image>=0.16.1->albumentations) (1.3.2)\n",
            "Requirement already satisfied: pyparsing!=2.0.4,!=2.1.2,!=2.1.6,>=2.0.1 in /usr/local/lib/python3.7/dist-packages (from matplotlib!=3.0.0,>=2.0.0->scikit-image>=0.16.1->albumentations) (2.4.7)\n",
            "Requirement already satisfied: cycler>=0.10 in /usr/local/lib/python3.7/dist-packages (from matplotlib!=3.0.0,>=2.0.0->scikit-image>=0.16.1->albumentations) (0.10.0)\n",
            "Requirement already satisfied: six in /usr/local/lib/python3.7/dist-packages (from cycler>=0.10->matplotlib!=3.0.0,>=2.0.0->scikit-image>=0.16.1->albumentations) (1.15.0)\n",
            "Requirement already satisfied: joblib>=0.11 in /usr/local/lib/python3.7/dist-packages (from scikit-learn>=0.19.1->qudida>=0.0.4->albumentations) (1.0.1)\n",
            "Installing collected packages: opencv-python-headless, qudida, albumentations\n",
            "  Attempting uninstall: albumentations\n",
            "    Found existing installation: albumentations 0.1.12\n",
            "    Uninstalling albumentations-0.1.12:\n",
            "      Successfully uninstalled albumentations-0.1.12\n",
            "Successfully installed albumentations-1.1.0 opencv-python-headless-4.5.4.58 qudida-0.0.4\n",
            "Collecting colorama\n",
            "  Downloading colorama-0.4.4-py2.py3-none-any.whl (16 kB)\n",
            "Installing collected packages: colorama\n",
            "Successfully installed colorama-0.4.4\n",
            "Collecting gmaps\n",
            "  Downloading gmaps-0.9.0.tar.gz (1.1 MB)\n",
            "\u001b[K     |████████████████████████████████| 1.1 MB 10.7 MB/s \n",
            "\u001b[?25hRequirement already satisfied: ipython>=5.3.0 in /usr/local/lib/python3.7/dist-packages (from gmaps) (5.5.0)\n",
            "Requirement already satisfied: ipywidgets>=7.0.0 in /usr/local/lib/python3.7/dist-packages (from gmaps) (7.6.5)\n",
            "Requirement already satisfied: traitlets>=4.3.0 in /usr/local/lib/python3.7/dist-packages (from gmaps) (5.1.0)\n",
            "Collecting geojson>=2.0.0\n",
            "  Downloading geojson-2.5.0-py2.py3-none-any.whl (14 kB)\n",
            "Requirement already satisfied: six in /usr/local/lib/python3.7/dist-packages (from gmaps) (1.15.0)\n",
            "Requirement already satisfied: pygments in /usr/local/lib/python3.7/dist-packages (from ipython>=5.3.0->gmaps) (2.6.1)\n",
            "Requirement already satisfied: pickleshare in /usr/local/lib/python3.7/dist-packages (from ipython>=5.3.0->gmaps) (0.7.5)\n",
            "Requirement already satisfied: prompt-toolkit<2.0.0,>=1.0.4 in /usr/local/lib/python3.7/dist-packages (from ipython>=5.3.0->gmaps) (1.0.18)\n",
            "Requirement already satisfied: pexpect in /usr/local/lib/python3.7/dist-packages (from ipython>=5.3.0->gmaps) (4.8.0)\n",
            "Requirement already satisfied: setuptools>=18.5 in /usr/local/lib/python3.7/dist-packages (from ipython>=5.3.0->gmaps) (57.4.0)\n",
            "Requirement already satisfied: decorator in /usr/local/lib/python3.7/dist-packages (from ipython>=5.3.0->gmaps) (4.4.2)\n",
            "Requirement already satisfied: simplegeneric>0.8 in /usr/local/lib/python3.7/dist-packages (from ipython>=5.3.0->gmaps) (0.8.1)\n",
            "Requirement already satisfied: ipykernel>=4.5.1 in /usr/local/lib/python3.7/dist-packages (from ipywidgets>=7.0.0->gmaps) (4.10.1)\n",
            "Requirement already satisfied: jupyterlab-widgets>=1.0.0 in /usr/local/lib/python3.7/dist-packages (from ipywidgets>=7.0.0->gmaps) (1.0.2)\n",
            "Requirement already satisfied: ipython-genutils~=0.2.0 in /usr/local/lib/python3.7/dist-packages (from ipywidgets>=7.0.0->gmaps) (0.2.0)\n",
            "Requirement already satisfied: widgetsnbextension~=3.5.0 in /usr/local/lib/python3.7/dist-packages (from ipywidgets>=7.0.0->gmaps) (3.5.1)\n",
            "Requirement already satisfied: nbformat>=4.2.0 in /usr/local/lib/python3.7/dist-packages (from ipywidgets>=7.0.0->gmaps) (5.1.3)\n",
            "Requirement already satisfied: jupyter-client in /usr/local/lib/python3.7/dist-packages (from ipykernel>=4.5.1->ipywidgets>=7.0.0->gmaps) (5.3.5)\n",
            "Requirement already satisfied: tornado>=4.0 in /usr/local/lib/python3.7/dist-packages (from ipykernel>=4.5.1->ipywidgets>=7.0.0->gmaps) (5.1.1)\n",
            "Requirement already satisfied: jupyter-core in /usr/local/lib/python3.7/dist-packages (from nbformat>=4.2.0->ipywidgets>=7.0.0->gmaps) (4.8.1)\n",
            "Requirement already satisfied: jsonschema!=2.5.0,>=2.4 in /usr/local/lib/python3.7/dist-packages (from nbformat>=4.2.0->ipywidgets>=7.0.0->gmaps) (2.6.0)\n",
            "Requirement already satisfied: wcwidth in /usr/local/lib/python3.7/dist-packages (from prompt-toolkit<2.0.0,>=1.0.4->ipython>=5.3.0->gmaps) (0.2.5)\n",
            "Requirement already satisfied: notebook>=4.4.1 in /usr/local/lib/python3.7/dist-packages (from widgetsnbextension~=3.5.0->ipywidgets>=7.0.0->gmaps) (5.3.1)\n",
            "Requirement already satisfied: terminado>=0.8.1 in /usr/local/lib/python3.7/dist-packages (from notebook>=4.4.1->widgetsnbextension~=3.5.0->ipywidgets>=7.0.0->gmaps) (0.12.1)\n",
            "Requirement already satisfied: Send2Trash in /usr/local/lib/python3.7/dist-packages (from notebook>=4.4.1->widgetsnbextension~=3.5.0->ipywidgets>=7.0.0->gmaps) (1.8.0)\n",
            "Requirement already satisfied: nbconvert in /usr/local/lib/python3.7/dist-packages (from notebook>=4.4.1->widgetsnbextension~=3.5.0->ipywidgets>=7.0.0->gmaps) (5.6.1)\n",
            "Requirement already satisfied: jinja2 in /usr/local/lib/python3.7/dist-packages (from notebook>=4.4.1->widgetsnbextension~=3.5.0->ipywidgets>=7.0.0->gmaps) (2.11.3)\n",
            "Requirement already satisfied: pyzmq>=13 in /usr/local/lib/python3.7/dist-packages (from jupyter-client->ipykernel>=4.5.1->ipywidgets>=7.0.0->gmaps) (22.3.0)\n",
            "Requirement already satisfied: python-dateutil>=2.1 in /usr/local/lib/python3.7/dist-packages (from jupyter-client->ipykernel>=4.5.1->ipywidgets>=7.0.0->gmaps) (2.8.2)\n",
            "Requirement already satisfied: ptyprocess in /usr/local/lib/python3.7/dist-packages (from terminado>=0.8.1->notebook>=4.4.1->widgetsnbextension~=3.5.0->ipywidgets>=7.0.0->gmaps) (0.7.0)\n",
            "Requirement already satisfied: MarkupSafe>=0.23 in /usr/local/lib/python3.7/dist-packages (from jinja2->notebook>=4.4.1->widgetsnbextension~=3.5.0->ipywidgets>=7.0.0->gmaps) (2.0.1)\n",
            "Requirement already satisfied: entrypoints>=0.2.2 in /usr/local/lib/python3.7/dist-packages (from nbconvert->notebook>=4.4.1->widgetsnbextension~=3.5.0->ipywidgets>=7.0.0->gmaps) (0.3)\n",
            "Requirement already satisfied: mistune<2,>=0.8.1 in /usr/local/lib/python3.7/dist-packages (from nbconvert->notebook>=4.4.1->widgetsnbextension~=3.5.0->ipywidgets>=7.0.0->gmaps) (0.8.4)\n",
            "Requirement already satisfied: testpath in /usr/local/lib/python3.7/dist-packages (from nbconvert->notebook>=4.4.1->widgetsnbextension~=3.5.0->ipywidgets>=7.0.0->gmaps) (0.5.0)\n",
            "Requirement already satisfied: bleach in /usr/local/lib/python3.7/dist-packages (from nbconvert->notebook>=4.4.1->widgetsnbextension~=3.5.0->ipywidgets>=7.0.0->gmaps) (4.1.0)\n",
            "Requirement already satisfied: defusedxml in /usr/local/lib/python3.7/dist-packages (from nbconvert->notebook>=4.4.1->widgetsnbextension~=3.5.0->ipywidgets>=7.0.0->gmaps) (0.7.1)\n",
            "Requirement already satisfied: pandocfilters>=1.4.1 in /usr/local/lib/python3.7/dist-packages (from nbconvert->notebook>=4.4.1->widgetsnbextension~=3.5.0->ipywidgets>=7.0.0->gmaps) (1.5.0)\n",
            "Requirement already satisfied: packaging in /usr/local/lib/python3.7/dist-packages (from bleach->nbconvert->notebook>=4.4.1->widgetsnbextension~=3.5.0->ipywidgets>=7.0.0->gmaps) (21.0)\n",
            "Requirement already satisfied: webencodings in /usr/local/lib/python3.7/dist-packages (from bleach->nbconvert->notebook>=4.4.1->widgetsnbextension~=3.5.0->ipywidgets>=7.0.0->gmaps) (0.5.1)\n",
            "Requirement already satisfied: pyparsing>=2.0.2 in /usr/local/lib/python3.7/dist-packages (from packaging->bleach->nbconvert->notebook>=4.4.1->widgetsnbextension~=3.5.0->ipywidgets>=7.0.0->gmaps) (2.4.7)\n",
            "Building wheels for collected packages: gmaps\n",
            "  Building wheel for gmaps (setup.py) ... \u001b[?25l\u001b[?25hdone\n",
            "  Created wheel for gmaps: filename=gmaps-0.9.0-py2.py3-none-any.whl size=2076111 sha256=cea9dd2eca5b8e62a9d42b1acea0ec426b1dcec67797a6d0e40c2ab22a8eab67\n",
            "  Stored in directory: /root/.cache/pip/wheels/3d/1c/cb/c46f4199210e632b28d78d05a00bfdccbf6dfcd3f5b051d6bf\n",
            "Successfully built gmaps\n",
            "Installing collected packages: geojson, gmaps\n",
            "Successfully installed geojson-2.5.0 gmaps-0.9.0\n",
            "Collecting optuna\n",
            "  Downloading optuna-2.10.0-py3-none-any.whl (308 kB)\n",
            "\u001b[K     |████████████████████████████████| 308 kB 13.5 MB/s \n",
            "\u001b[?25hCollecting cmaes>=0.8.2\n",
            "  Downloading cmaes-0.8.2-py3-none-any.whl (15 kB)\n",
            "Requirement already satisfied: tqdm in /usr/local/lib/python3.7/dist-packages (from optuna) (4.62.3)\n",
            "Requirement already satisfied: scipy!=1.4.0 in /usr/local/lib/python3.7/dist-packages (from optuna) (1.4.1)\n",
            "Requirement already satisfied: sqlalchemy>=1.1.0 in /usr/local/lib/python3.7/dist-packages (from optuna) (1.4.25)\n",
            "Requirement already satisfied: packaging>=20.0 in /usr/local/lib/python3.7/dist-packages (from optuna) (21.0)\n",
            "Collecting cliff\n",
            "  Downloading cliff-3.9.0-py3-none-any.whl (80 kB)\n",
            "\u001b[K     |████████████████████████████████| 80 kB 8.9 MB/s \n",
            "\u001b[?25hRequirement already satisfied: PyYAML in /usr/local/lib/python3.7/dist-packages (from optuna) (3.13)\n",
            "Requirement already satisfied: numpy in /usr/local/lib/python3.7/dist-packages (from optuna) (1.19.5)\n",
            "Collecting alembic\n",
            "  Downloading alembic-1.7.4-py3-none-any.whl (209 kB)\n",
            "\u001b[K     |████████████████████████████████| 209 kB 46.6 MB/s \n",
            "\u001b[?25hCollecting colorlog\n",
            "  Downloading colorlog-6.5.0-py2.py3-none-any.whl (11 kB)\n",
            "Requirement already satisfied: pyparsing>=2.0.2 in /usr/local/lib/python3.7/dist-packages (from packaging>=20.0->optuna) (2.4.7)\n",
            "Requirement already satisfied: importlib-metadata in /usr/local/lib/python3.7/dist-packages (from sqlalchemy>=1.1.0->optuna) (4.8.1)\n",
            "Requirement already satisfied: greenlet!=0.4.17 in /usr/local/lib/python3.7/dist-packages (from sqlalchemy>=1.1.0->optuna) (1.1.2)\n",
            "Collecting Mako\n",
            "  Downloading Mako-1.1.5-py2.py3-none-any.whl (75 kB)\n",
            "\u001b[K     |████████████████████████████████| 75 kB 4.5 MB/s \n",
            "\u001b[?25hRequirement already satisfied: importlib-resources in /usr/local/lib/python3.7/dist-packages (from alembic->optuna) (5.2.2)\n",
            "Collecting autopage>=0.4.0\n",
            "  Downloading autopage-0.4.0-py3-none-any.whl (20 kB)\n",
            "Requirement already satisfied: PrettyTable>=0.7.2 in /usr/local/lib/python3.7/dist-packages (from cliff->optuna) (2.2.1)\n",
            "Collecting pbr!=2.1.0,>=2.0.0\n",
            "  Downloading pbr-5.6.0-py2.py3-none-any.whl (111 kB)\n",
            "\u001b[K     |████████████████████████████████| 111 kB 49.9 MB/s \n",
            "\u001b[?25hCollecting stevedore>=2.0.1\n",
            "  Downloading stevedore-3.5.0-py3-none-any.whl (49 kB)\n",
            "\u001b[K     |████████████████████████████████| 49 kB 5.9 MB/s \n",
            "\u001b[?25hCollecting cmd2>=1.0.0\n",
            "  Downloading cmd2-2.2.0-py3-none-any.whl (144 kB)\n",
            "\u001b[K     |████████████████████████████████| 144 kB 57.1 MB/s \n",
            "\u001b[?25hRequirement already satisfied: typing-extensions in /usr/local/lib/python3.7/dist-packages (from cmd2>=1.0.0->cliff->optuna) (3.7.4.3)\n",
            "Requirement already satisfied: colorama>=0.3.7 in /usr/local/lib/python3.7/dist-packages (from cmd2>=1.0.0->cliff->optuna) (0.4.4)\n",
            "Collecting pyperclip>=1.6\n",
            "  Downloading pyperclip-1.8.2.tar.gz (20 kB)\n",
            "Requirement already satisfied: attrs>=16.3.0 in /usr/local/lib/python3.7/dist-packages (from cmd2>=1.0.0->cliff->optuna) (21.2.0)\n",
            "Requirement already satisfied: wcwidth>=0.1.7 in /usr/local/lib/python3.7/dist-packages (from cmd2>=1.0.0->cliff->optuna) (0.2.5)\n",
            "Requirement already satisfied: zipp>=0.5 in /usr/local/lib/python3.7/dist-packages (from importlib-metadata->sqlalchemy>=1.1.0->optuna) (3.6.0)\n",
            "Requirement already satisfied: MarkupSafe>=0.9.2 in /usr/local/lib/python3.7/dist-packages (from Mako->alembic->optuna) (2.0.1)\n",
            "Building wheels for collected packages: pyperclip\n",
            "  Building wheel for pyperclip (setup.py) ... \u001b[?25l\u001b[?25hdone\n",
            "  Created wheel for pyperclip: filename=pyperclip-1.8.2-py3-none-any.whl size=11136 sha256=bec414bbc1fe3fceb7d4fb8ffd4dec893252540e1203cd6722ef30f6fb825f16\n",
            "  Stored in directory: /root/.cache/pip/wheels/9f/18/84/8f69f8b08169c7bae2dde6bd7daf0c19fca8c8e500ee620a28\n",
            "Successfully built pyperclip\n",
            "Installing collected packages: pyperclip, pbr, stevedore, Mako, cmd2, autopage, colorlog, cmaes, cliff, alembic, optuna\n",
            "Successfully installed Mako-1.1.5 alembic-1.7.4 autopage-0.4.0 cliff-3.9.0 cmaes-0.8.2 cmd2-2.2.0 colorlog-6.5.0 optuna-2.10.0 pbr-5.6.0 pyperclip-1.8.2 stevedore-3.5.0\n"
          ]
        }
      ]
    },
    {
      "cell_type": "code",
      "metadata": {
        "id": "KHQt9JXgmXPF"
      },
      "source": [
        "import os\n",
        "import gc\n",
        "import cv2\n",
        "import sys\n",
        "import time\n",
        "import timm\n",
        "import tqdm\n",
        "import random\n",
        "import numpy as np\n",
        "import pandas as pd\n",
        "import seaborn as sns\n",
        "import matplotlib.pyplot as plt\n",
        "\n",
        "import plotly.express as px\n",
        "import plotly.graph_objs as go\n",
        "import plotly.figure_factory as ff\n",
        "\n",
        "from PIL import Image\n",
        "from sklearn.decomposition import PCA\n",
        "from sklearn.impute import SimpleImputer\n",
        "from sklearn.model_selection import train_test_split\n",
        "\n",
        "import gmaps\n",
        "import optuna\n",
        "\n",
        "from colorama import Fore, Back, Style\n",
        "y_ = Fore.YELLOW\n",
        "r_ = Fore.RED\n",
        "g_ = Fore.GREEN\n",
        "b_ = Fore.BLUE\n",
        "m_ = Fore.MAGENTA\n",
        "c_ = Fore.CYAN\n",
        "sr_ = Style.RESET_ALL\n",
        "\n",
        "import warnings\n",
        "warnings.filterwarnings('ignore')\n",
        "\n",
        "import lightgbm as lgb\n",
        "\n",
        "from sklearn.metrics import mean_squared_error\n",
        "from sklearn.compose import ColumnTransformer\n",
        "from sklearn.model_selection import StratifiedKFold\n",
        "from sklearn.pipeline import FeatureUnion\n",
        "from sklearn.preprocessing import (StandardScaler,PowerTransformer,\n",
        "                                   QuantileTransformer,LabelEncoder, \n",
        "                                   OneHotEncoder,RobustScaler)\n",
        "\n",
        "\n",
        "import torch\n",
        "import torch.nn as nn\n",
        "import torch.optim as optim\n",
        "import torch.nn.functional as F\n",
        "from torch.utils.data import Dataset, DataLoader\n",
        "\n",
        "import albumentations as A \n",
        "from albumentations.pytorch.transforms import ToTensorV2"
      ],
      "execution_count": 2,
      "outputs": []
    },
    {
      "cell_type": "code",
      "metadata": {
        "id": "T2TQt_esu7Hl"
      },
      "source": [
        "import ee\n",
        "ee.Authenticate()\n",
        "ee.Initialize()"
      ],
      "execution_count": null,
      "outputs": []
    },
    {
      "cell_type": "code",
      "metadata": {
        "colab": {
          "base_uri": "https://localhost:8080/"
        },
        "id": "dYUy3C1nmyl_",
        "outputId": "9017604f-c38b-4a3a-8c9f-b9e923e08309"
      },
      "source": [
        "df = pd.read_csv('/content/drive/MyDrive/AcresBurned/FinalDataset.csv').sample(n=10).reset_index(drop=True)\n",
        "\n",
        "# you might have to run this commented code for any other dataset but currenly I am\n",
        "#testing it on cleaned train data so it is fine.\n",
        "\n",
        "# df = pd.read_csv('/content/drive/MyDrive/AcresBurned/FinalDataset.csv')\n",
        "\n",
        "# df.drop(['precipprob','snow','snowdepth','preciptype','windgust'],axis=1,inplace=True)\n",
        "\n",
        "# df.fillna(df.mean(),inplace=True)\n",
        "\n",
        "# df = df.query(\"(Latitude <= 90) & (Latitude >=-90)\").reset_index(drop=True)\n",
        "# df = df.query(\"(Longitude <= 180) & (Longitude >=-180)\").reset_index(drop=True)\n",
        "\n",
        "\n",
        "tiff_image_path = '/content/drive/MyDrive/AcresBurned/test_images/'\n",
        "jpeg_image_path = '/content/drive/MyDrive/AcresBurned/test_images/'\n",
        "\n",
        "classes = ['AnnualCrop', 'HerbaceousVegetation', 'PermanentCrop',\n",
        "       'Industrial', 'Pasture', 'Highway', 'Residential', 'River',\n",
        "       'SeaLake', 'Forest']\n",
        "\n",
        "num_classes = len(classes)\n",
        "\n",
        "class_to_label = {value:key for key,value in enumerate(classes)}\n",
        "label_to_class = {key:value for key,value in enumerate(classes)}\n",
        "\n",
        "df['previous_year'] = df['Started'].apply(lambda x:str(int(x[:4])-1)+x[4:])\n",
        "\n",
        "df['gee_images'] = [f\"gee_image{x}\" for x in range(len(df))]\n",
        "df['path'] = jpeg_image_path + df['gee_images'] + '.jpeg'\n",
        "\n",
        "print(\"Number of unique Counties\",df.Counties.nunique())\n",
        "print(\"Number of rows {} Number of Columns {}\".format(*df.shape))"
      ],
      "execution_count": 37,
      "outputs": [
        {
          "output_type": "stream",
          "name": "stdout",
          "text": [
            "Number of unique Counties 10\n",
            "Number of rows 10 Number of Columns 21\n"
          ]
        }
      ]
    },
    {
      "cell_type": "code",
      "metadata": {
        "id": "WXSSMAY9m_Fv"
      },
      "source": [
        "seed = 1000\n",
        "nfolds = 5\n",
        "\n",
        "config = {'lr':5e-5,\n",
        "          'wd':1e-2,\n",
        "          'bs':32,\n",
        "          'img_size':256,\n",
        "          'nfolds':5,\n",
        "          'epochs':10,\n",
        "          'num_workers':4,\n",
        "          'seed':1000,\n",
        "          'model_name':'tf_efficientnet_b0',\n",
        "         }\n",
        "\n",
        "def seed_everything(seed=42):\n",
        "    random.seed(seed)\n",
        "    os.environ['PYTHONASSEED'] = str(seed)\n",
        "    np.random.seed(seed)\n",
        "    torch.manual_seed(seed)\n",
        "    torch.cuda.manual_seed(seed)\n",
        "    torch.cuda.manual_seed_all(seed)\n",
        "    torch.backends.cudnn.deterministic = True\n",
        "    torch.backends.cudnn.benchmark = True\n",
        "\n",
        "seed_everything(seed=config['seed'])"
      ],
      "execution_count": 23,
      "outputs": []
    },
    {
      "cell_type": "markdown",
      "metadata": {
        "id": "3CkMTXK7sm1P"
      },
      "source": [
        "## Get The Image"
      ]
    },
    {
      "cell_type": "code",
      "metadata": {
        "id": "jeHzQvpgtrIf"
      },
      "source": [
        "latitudes = df[\"Latitude\"].tolist()\n",
        "longitudes = df[\"Longitude\"].tolist()\n",
        "start_dates = df[\"Started\"].tolist()\n",
        "prev_dates = df[\"previous_year\"].tolist()\n",
        "\n",
        "for i in range(len(train_data)):\n",
        "  lat = latitudes[i]\n",
        "  lon = longitudes[i]\n",
        "  start_date = start_dates[i]\n",
        "  prev_date = prev_dates[i]\n",
        "\n",
        "  area_of_interest = ee.Geometry.Point(lon=lon, lat=lat)\n",
        "\n",
        "  tile = ee.ImageCollection('COPERNICUS/S2_SR').filterBounds(area_of_interest).filterDate(start_date,'2021-06-30').sort('CLOUDY_PIXEL_PERCENTAGE').first()\n",
        "\n",
        "  rgb_tile = tile.visualize(bands = ['B4', 'B3', 'B2'], max = 4000)\n",
        "\n",
        "  bounding_box = ee.Geometry.Rectangle([lon-0.01,lat-0.01,lon+0.001,lat+0.001])\n",
        "\n",
        "  task_config = {\n",
        "      'scale': 5,  \n",
        "      'image': rgb_tile,\n",
        "      'description': f'gee_image{i}',\n",
        "      'folder':'test_images',\n",
        "      'region': bounding_box.getInfo()['coordinates'],\n",
        "      'crs':'EPSG:4326',\n",
        "      'fileFormat':'GEO_TIFF',\n",
        "      }\n",
        "\n",
        "  task = ee.batch.Export.image.toDrive(**task_config)\n",
        "  task.start()"
      ],
      "execution_count": 27,
      "outputs": []
    },
    {
      "cell_type": "markdown",
      "metadata": {
        "id": "itSpISNjvVk7"
      },
      "source": [
        "Downloaded images will take time to appear in the drive.<br/>\n",
        "so run all the code below after the image appears"
      ]
    },
    {
      "cell_type": "code",
      "metadata": {
        "id": "_saPh7r8trzy"
      },
      "source": [
        "def convert_tiff_to_jpeg(img_name):\n",
        "  img = Image.open(tiff_image_path+img_name+'.tif')\n",
        "  img.save(jpeg_image_path+img_name+'.jpeg')\n",
        "\n",
        "image_paths = train_data['gee_images'].tolist()\n",
        "for img_name in image_paths:\n",
        "  convert_tiff_to_jpeg(img_name)"
      ],
      "execution_count": 30,
      "outputs": []
    },
    {
      "cell_type": "markdown",
      "metadata": {
        "id": "xw0vNRF3ow3Y"
      },
      "source": [
        "## Predict Cover Type\n",
        "\n",
        "Mount it to google drive.\n",
        "and you might have to change the path of the drive in some part of the code\n",
        "\n",
        "and change the runtime to gpu before running"
      ]
    },
    {
      "cell_type": "code",
      "metadata": {
        "id": "wrj_0e3xnu8e"
      },
      "source": [
        "class Model(nn.Module):\n",
        "    def __init__(self,model_path,pretrained=True):\n",
        "        super(Model,self).__init__()\n",
        "        self.backbone = timm.create_model(model_path,pretrained=pretrained)\n",
        "        in_features = self.backbone.classifier.in_features\n",
        "        self.backbone.classifier = nn.Linear(in_features,128)\n",
        "        self.dropout = nn.Dropout(0.2)\n",
        "        self.relu = nn.ReLU()\n",
        "        self.layer = nn.Linear(128,num_classes)\n",
        "    \n",
        "    def forward(self,x):\n",
        "        x = self.relu(self.backbone(x))\n",
        "        x = self.layer(self.dropout(x))\n",
        "        return x"
      ],
      "execution_count": 31,
      "outputs": []
    },
    {
      "cell_type": "code",
      "metadata": {
        "id": "q5DG8Fd3nvvN"
      },
      "source": [
        "def get_test_transforms():\n",
        "    return A.Compose(\n",
        "        [\n",
        "            A.Resize(config['img_size'],config['img_size'],always_apply=True),\n",
        "            A.Normalize(\n",
        "              mean=[0.485, 0.456, 0.406],\n",
        "              std=[0.229, 0.224, 0.225],\n",
        "           ),\n",
        "            ToTensorV2(p=1.0)\n",
        "        ])"
      ],
      "execution_count": 32,
      "outputs": []
    },
    {
      "cell_type": "code",
      "metadata": {
        "id": "jRtMC0-hny6U"
      },
      "source": [
        "class EuroSatDatasetTest(Dataset):\n",
        "    def __init__(self,df,transforms=None):\n",
        "        self.df = df\n",
        "        self.transforms = transforms\n",
        "    \n",
        "    def __getitem__(self,idx):\n",
        "        path = self.df.loc[idx,\"path\"]\n",
        "        image = cv2.imread(path)\n",
        "        image = cv2.cvtColor(image, cv2.COLOR_BGR2RGB)\n",
        "        \n",
        "        if self.transforms:\n",
        "            augmented = self.transforms(image=image)\n",
        "            image = augmented['image']\n",
        "        \n",
        "        image = torch.tensor(image,dtype=torch.float)\n",
        "        \n",
        "        return image\n",
        "    \n",
        "    def __len__(self):\n",
        "        return len(self.df)"
      ],
      "execution_count": 33,
      "outputs": []
    },
    {
      "cell_type": "code",
      "metadata": {
        "id": "6kq3I9oIn1NA"
      },
      "source": [
        "def get_prediction(df,model_paths,device='cuda'):\n",
        "    predictions = list()\n",
        "    \n",
        "    for path,model_name in model_paths:\n",
        "        model = Model(model_name,pretrained=False)\n",
        "\n",
        "        for f in range(config['nfolds']):\n",
        "            model.load_state_dict(torch.load(path.format(f),map_location=device))\n",
        "            model.to(device)\n",
        "            model.eval()\n",
        "\n",
        "            test_ds = EuroSatDatasetTest(df,transforms=get_test_transforms())\n",
        "            test_dl = DataLoader(test_ds,\n",
        "                                batch_size = config[\"bs\"],\n",
        "                                num_workers = config['num_workers'],\n",
        "                                shuffle=False,\n",
        "                                pin_memory=True,\n",
        "                                drop_last=False)\n",
        "\n",
        "            with torch.no_grad():\n",
        "                prediction = list()\n",
        "                for i, inputs in enumerate(test_dl):\n",
        "                    inputs = inputs.to(device)\n",
        "                    outputs = model(inputs)\n",
        "                    pred = outputs.detach().cpu().numpy().tolist()\n",
        "                    prediction.extend(pred)\n",
        "                predictions.append(prediction)\n",
        "\n",
        "    torch.cuda.empty_cache()\n",
        "    predictions = np.mean(predictions,axis=0).argmax(axis=1)\n",
        "    return predictions"
      ],
      "execution_count": 34,
      "outputs": []
    },
    {
      "cell_type": "code",
      "metadata": {
        "id": "3jTnVUiZn7kQ"
      },
      "source": [
        "model_paths = [\n",
        "    ('/content/drive/MyDrive/AcresBurned/models/model{0}.bin',config['model_name'])\n",
        "]"
      ],
      "execution_count": 35,
      "outputs": []
    },
    {
      "cell_type": "code",
      "metadata": {
        "id": "zRK-dN-fn8PD"
      },
      "source": [
        "df['covertype'] = get_prediction(df,model_paths)\n",
        "df['covertype'] = df['covertype'].map(label_to_class)"
      ],
      "execution_count": 38,
      "outputs": []
    },
    {
      "cell_type": "markdown",
      "metadata": {
        "id": "429cGjZCoLkD"
      },
      "source": [
        "## Predict AcresBurned"
      ]
    },
    {
      "cell_type": "code",
      "metadata": {
        "id": "rvD-4YTToKws"
      },
      "source": [
        "cat_feature = ['Counties','covertype']\n",
        "features= ['Counties','temp','feelslike','humidity','dew','precip','windspeed','winddir','pressure','covertype']\n",
        "\n",
        "X = df[features]\n",
        "\n",
        "for c in cat_feature:\n",
        "  le = LabelEncoder()\n",
        "  X[c] = le.fit_transform(X[c])\n",
        "\n",
        "normalize = StandardScaler()\n",
        "X = normalize.fit_transform(X)"
      ],
      "execution_count": 39,
      "outputs": []
    },
    {
      "cell_type": "code",
      "metadata": {
        "id": "E5mF1raTsAEe"
      },
      "source": [
        "lgb_models = list()\n",
        "\n",
        "for i in range(nfolds):\n",
        "  model = lgb.Booster(model_file=f'/content/drive/MyDrive/AcresBurned/models/lgb_model{i}.txt')\n",
        "  lgb_models.append(model)"
      ],
      "execution_count": 40,
      "outputs": []
    },
    {
      "cell_type": "code",
      "metadata": {
        "id": "VZAq1h8QoYfj"
      },
      "source": [
        "def make_prediction(x_test,lgb_models):\n",
        "  return np.mean([model.predict(x_test) for model in lgb_models],axis=0)"
      ],
      "execution_count": 41,
      "outputs": []
    },
    {
      "cell_type": "code",
      "metadata": {
        "id": "Gjz6-W3hoaeD"
      },
      "source": [
        "df['AcresBurnedPrediction'] = make_prediction(X,lgb_models)"
      ],
      "execution_count": 43,
      "outputs": []
    },
    {
      "cell_type": "code",
      "metadata": {
        "colab": {
          "base_uri": "https://localhost:8080/"
        },
        "id": "Xj6LXKikse42",
        "outputId": "24f84039-a52a-4735-b254-1759ea3f902e"
      },
      "source": [
        "df['AcresBurnedPrediction'].head()"
      ],
      "execution_count": 44,
      "outputs": [
        {
          "output_type": "execute_result",
          "data": {
            "text/plain": [
              "0   -1867.391874\n",
              "1     241.432010\n",
              "2    3042.853020\n",
              "3    4807.369122\n",
              "4    4720.891876\n",
              "Name: AcresBurnedPrediction, dtype: float64"
            ]
          },
          "metadata": {},
          "execution_count": 44
        }
      ]
    },
    {
      "cell_type": "code",
      "metadata": {
        "id": "6yuAB38Jz4cF"
      },
      "source": [
        ""
      ],
      "execution_count": null,
      "outputs": []
    }
  ]
}